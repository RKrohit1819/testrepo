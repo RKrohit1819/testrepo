{
 "cells": [
  {
   "cell_type": "markdown",
   "id": "cca1717e",
   "metadata": {},
   "source": [
    "# Data Science Tools and Ecosystem"
   ]
  },
  {
   "cell_type": "markdown",
   "id": "4cafe2b6",
   "metadata": {},
   "source": [
    "In this notebook, Data Science Tools and Ecosystem are summarized.\n"
   ]
  },
  {
   "cell_type": "markdown",
   "id": "ac3d9bb8",
   "metadata": {},
   "source": [
    "some of the popular languages that Data Scientists use are:\n",
    "\n",
    "1. Python    \n",
    "2. R     \n",
    "3. SQL    \n",
    "4. C++\n",
    "5. Java etc..;\n"
   ]
  },
  {
   "cell_type": "markdown",
   "id": "c21d303c",
   "metadata": {},
   "source": [
    "some of the commonly used libraries used by Data Scientists include:  \n",
    "1. Pandas.\n",
    "2. Scipy.\n",
    "3. TensorFlow.\n",
    "4. Numpy.\n",
    "5. Matplotlib.\n",
    "6. Keras.\n",
    "7. Scikit-Learn.\n",
    "8. PyTorch. etc..;"
   ]
  },
  {
   "cell_type": "markdown",
   "id": "843e1c34",
   "metadata": {},
   "source": [
    "|Data Science Tools|\n",
    "|---|\n",
    "|SAS|\n",
    "|TensorFlow|\n",
    "|Pandas|"
   ]
  },
  {
   "cell_type": "markdown",
   "id": "68a5f495",
   "metadata": {},
   "source": [
    "### Below are a few examples of evaluating arithmetic expressiona in python"
   ]
  },
  {
   "cell_type": "code",
   "execution_count": 1,
   "id": "30e0d866",
   "metadata": {},
   "outputs": [
    {
     "data": {
      "text/plain": [
       "27"
      ]
     },
     "execution_count": 1,
     "metadata": {},
     "output_type": "execute_result"
    }
   ],
   "source": [
    "#This is a common arithmetic exapmle to multiply and then add integers\n",
    "(5*5)+2"
   ]
  },
  {
   "cell_type": "code",
   "execution_count": 2,
   "id": "dbc89ded",
   "metadata": {},
   "outputs": [
    {
     "data": {
      "text/plain": [
       "50.0"
      ]
     },
     "execution_count": 2,
     "metadata": {},
     "output_type": "execute_result"
    }
   ],
   "source": [
    "#This will convert 300 minutes to hours by dividing by 60\n",
    "300/6"
   ]
  },
  {
   "cell_type": "markdown",
   "id": "783f73f6",
   "metadata": {},
   "source": [
    "__objective__\n",
    "* List Popular languages for Data Science\n",
    "* List Popular libraries for Data Science\n",
    "* List of well known Data Science Tools\n",
    "* How to provide comments in the cell"
   ]
  },
  {
   "cell_type": "markdown",
   "id": "e5216844",
   "metadata": {},
   "source": [
    "## Author\n",
    "Rohit Kumar"
   ]
  }
 ],
 "metadata": {
  "kernelspec": {
   "display_name": "Python 3 (ipykernel)",
   "language": "python",
   "name": "python3"
  },
  "language_info": {
   "codemirror_mode": {
    "name": "ipython",
    "version": 3
   },
   "file_extension": ".py",
   "mimetype": "text/x-python",
   "name": "python",
   "nbconvert_exporter": "python",
   "pygments_lexer": "ipython3",
   "version": "3.10.9"
  }
 },
 "nbformat": 4,
 "nbformat_minor": 5
}
